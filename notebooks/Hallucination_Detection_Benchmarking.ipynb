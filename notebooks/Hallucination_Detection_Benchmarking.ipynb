{
 "cells": [
  {
   "cell_type": "markdown",
   "id": "64de3627-100a-41fd-9ea9-6ab79bf587a4",
   "metadata": {},
   "source": [
    "## Setup"
   ]
  },
  {
   "cell_type": "code",
   "execution_count": 62,
   "id": "ce53c0f1-06d9-4cc0-8809-54daf3eadfa1",
   "metadata": {},
   "outputs": [],
   "source": [
    "import os\n",
    "import time\n",
    "from tqdm.auto import tqdm\n",
    "import random\n",
    "import numpy as np\n",
    "import torch\n",
    "\n",
    "import pandas as pd\n",
    "import pickle\n",
    "from scipy import stats\n",
    "from nltk.tokenize import sent_tokenize\n",
    "import json\n",
    "from minicheck.minicheck import MiniCheck\n",
    "from transformers import AutoTokenizer, AutoModelForSequenceClassification\n",
    "\n",
    "from sklearn.metrics import accuracy_score, precision_score, recall_score, f1_score, classification_report, confusion_matrix, ConfusionMatrixDisplay\n",
    "import matplotlib.pyplot as plt\n",
    "from PIL import Image"
   ]
  },
  {
   "cell_type": "code",
   "execution_count": null,
   "id": "a6c51f26-6a25-4e53-8067-1e5610dcf4d1",
   "metadata": {},
   "outputs": [],
   "source": [
    "seed = 42\n",
    "random.seed(seed)\n",
    "np.random.seed(seed)\n",
    "torch.manual_seed(seed)\n",
    "\n",
    "if torch.cuda.is_available():\n",
    "    torch.cuda.manual_seed(seed)\n",
    "    torch.backends.cudnn.deterministic = True\n",
    "    torch.backends.cudnn.benchmark = False"
   ]
  },
  {
   "cell_type": "code",
   "execution_count": null,
   "id": "c4fee12f-0947-4a4e-b05f-5dc143d41d20",
   "metadata": {},
   "outputs": [],
   "source": [
    "with open(\"hallucination_eval_dataset.json\", \"r\") as f:\n",
    "    eval_data = json.load(f)\n",
    "\n",
    "len(eval_data)"
   ]
  },
  {
   "cell_type": "markdown",
   "id": "1073b5e7-3b5b-47db-85c3-d6a2a696e1fe",
   "metadata": {},
   "source": [
    "## Model Inference"
   ]
  },
  {
   "cell_type": "markdown",
   "id": "35865b3a-e1b9-469a-97e4-36d488d01af2",
   "metadata": {},
   "source": [
    "- Currently MiniCheck models are active\n",
    "- Uncomment to run HHEM 2.1"
   ]
  },
  {
   "cell_type": "code",
   "execution_count": null,
   "id": "bd16b53a-15b2-4e4b-8b1d-e648c7c1b16e",
   "metadata": {},
   "outputs": [],
   "source": [
    "doc = \"A group of students gather in the school library to study for their upcoming final exams.\"\n",
    "claim_1 = \"The students are preparing for an examination.\"\n",
    "claim_2 = \"The students are on vacation.\""
   ]
  },
  {
   "cell_type": "code",
   "execution_count": null,
   "id": "4e1cfb86-fa4b-4f36-b8a3-22cbd598a203",
   "metadata": {},
   "outputs": [],
   "source": [
    "model_id = 'Bespoke-MiniCheck-7B'\n",
    "model_id = 'flan-t5-large'\n",
    "model_id = 'deberta-v3-large'\n",
    "model_id = 'roberta-large'\n",
    "model_id = 'roberta-large'\n",
    "scorer = MiniCheck(\n",
    "    model_name = model_id,\n",
    "    enable_prefix_caching = False,\n",
    "    cache_dir = './ckpts',\n",
    "    # max_model_len=8192\n",
    ")"
   ]
  },
  {
   "cell_type": "code",
   "execution_count": null,
   "id": "9bd72f7a-6239-4a90-9c62-7b5a8f8ccd19",
   "metadata": {},
   "outputs": [],
   "source": [
    "# scores = scorer.score(\n",
    "#     docs = [doc, doc, doc]*64,\n",
    "#     claims = [claim_1, claim_1, claim_2]*64,\n"
   ]
  },
  {
   "cell_type": "code",
   "execution_count": null,
   "id": "bebe20c4-0101-44f5-8117-e64226a33bb2",
   "metadata": {},
   "outputs": [],
   "source": [
    "# model_id = 'vectara/hallucination_evaluation_model'\n",
    "\n",
    "# scorer = AutoModelForSequenceClassification.from_pretrained(\n",
    "#     model_id, trust_remote_code=True)\n",
    "# scorer.cuda()"
   ]
  },
  {
   "cell_type": "code",
   "execution_count": null,
   "id": "4b4ce0a4-6eff-42be-877d-8d7d2fc5fce6",
   "metadata": {},
   "outputs": [],
   "source": [
    "# pairs = [\n",
    "#         (doc, claim_1),\n",
    "#         (doc,claim_2)\n",
    "# ]\n",
    "\n",
    "# model.predict(pairs)"
   ]
  },
  {
   "cell_type": "code",
   "execution_count": null,
   "id": "a276c93a-05b5-46b4-a12b-4f55a088417f",
   "metadata": {},
   "outputs": [],
   "source": [
    "def run_scorer(scorer, docs, claims):\n",
    "    _, scores, _, _ = scorer.score(\n",
    "                        docs = docs,\n",
    "                        claims =claims\n",
    "                        )\n",
    "    return scores"
   ]
  },
  {
   "cell_type": "code",
   "execution_count": null,
   "id": "c04a426c-5116-46ab-b2b8-108ead411b7e",
   "metadata": {},
   "outputs": [],
   "source": [
    "# def run_scorer(scorer, docs, claims):\n",
    "#     scores = scorer.predict([(doc,claim) for doc, claim in zip(docs, claims)])\n",
    "#     return scores.cpu().tolist()"
   ]
  },
  {
   "cell_type": "code",
   "execution_count": null,
   "id": "b59882dd-9096-45fd-a219-a46d12f0eb34",
   "metadata": {},
   "outputs": [],
   "source": [
    "prompt_template = \"Question: {question}\\nAnswer: {answer}\""
   ]
  },
  {
   "cell_type": "code",
   "execution_count": null,
   "id": "3e9393cd-fa00-4937-92d7-4b2c70fe7b72",
   "metadata": {},
   "outputs": [],
   "source": [
    "raw_scores = []\n",
    "ground_truth = []\n",
    "batch_size = 32\n",
    "\n",
    "for start_idx in tqdm(range(0, len(eval_data), batch_size), total=len(eval_data)//batch_size):\n",
    "    end_idx = min(start_idx + batch_size, len(eval_data))\n",
    "    current_batch = eval_data[start_idx:end_idx]\n",
    "    docs = []\n",
    "    claims = []\n",
    "    for doc in current_batch:\n",
    "        question = doc['question']\n",
    "        excerpt_paragraph = doc['excerpt_paragraph']\n",
    "        true_answer = doc['true_answer']\n",
    "        wrong_answer = doc['wrong_answer']\n",
    "        \n",
    "        if excerpt_paragraph.strip() and true_answer.strip() and wrong_answer.strip() and question.strip():\n",
    "            docs.extend([excerpt_paragraph] * 2)\n",
    "            true_answer_formatted = prompt_template.format(question=question, answer=true_answer)\n",
    "            wrong_answer_formatted = prompt_template.format(question=question, answer=wrong_answer)\n",
    "            claims.append(true_answer_formatted)\n",
    "            claims.append(wrong_answer_formatted)\n",
    "            ground_truth.append(1)\n",
    "            ground_truth.append(0)\n",
    "    \n",
    "    if docs and claims:\n",
    "        batch_scores = run_scorer(scorer, docs, claims)\n",
    "        raw_scores.extend(batch_scores)"
   ]
  },
  {
   "cell_type": "code",
   "execution_count": null,
   "id": "8102b94e-e574-4264-91c8-2de0fc26dc7a",
   "metadata": {},
   "outputs": [],
   "source": [
    "raw_scores = np.array(raw_scores)\n",
    "ground_truth = np.array(ground_truth)\n",
    "thresholds = np.linspace(0, 1, 20)\n",
    "results = {\n",
    "    'thresholds': thresholds.tolist(),\n",
    "    'accuracy': [],\n",
    "    'precision': [],\n",
    "    'recall': [],\n",
    "    'f1': [],\n",
    "    'predictions': {}\n",
    "}\n",
    "\n",
    "print(\"\\nEvaluating thresholds...\")\n",
    "for thresh in tqdm(thresholds):\n",
    "    predictions = (raw_scores > thresh).astype(int)\n",
    "    \n",
    "    accuracy = accuracy_score(ground_truth, predictions)\n",
    "    precision = precision_score(ground_truth, predictions, zero_division=0)\n",
    "    recall = recall_score(ground_truth, predictions, zero_division=0)\n",
    "    f1 = f1_score(ground_truth, predictions, zero_division=0)\n",
    "    \n",
    "    results['accuracy'].append(accuracy)\n",
    "    results['precision'].append(precision)\n",
    "    results['recall'].append(recall)\n",
    "    results['f1'].append(f1)\n",
    "    results['predictions'][f'{thresh:.3f}'] = predictions.tolist()\n",
    "\n",
    "optimal_idx = np.argmax(results['f1'])\n",
    "optimal_threshold = thresholds[optimal_idx]\n",
    "optimal_f1 = results['f1'][optimal_idx]"
   ]
  },
  {
   "cell_type": "code",
   "execution_count": null,
   "id": "02505074-9233-4bbe-9e49-777cbc13e1b3",
   "metadata": {},
   "outputs": [],
   "source": [
    "plt.figure(figsize=(12, 7))\n",
    "\n",
    "plt.plot(thresholds, results['accuracy'], marker='o', label='Accuracy', linewidth=2)\n",
    "plt.plot(thresholds, results['precision'], marker='s', label='Precision', linewidth=2)\n",
    "plt.plot(thresholds, results['recall'], marker='^', label='Recall', linewidth=2)\n",
    "plt.plot(thresholds, results['f1'], marker='D', label='F1 Score', linewidth=2, color='red')\n",
    "\n",
    "plt.axvline(x=optimal_threshold, color='black', linestyle='--', linewidth=2, \n",
    "            label=f'Optimal Threshold ({optimal_threshold:.3f})', alpha=0.7)\n",
    "plt.scatter([optimal_threshold], [optimal_f1], color='red', s=200, \n",
    "            zorder=5, edgecolors='black', linewidth=1, label=f'Max F1 ({optimal_f1:.3f})')\n",
    "\n",
    "plt.xlabel('Threshold', fontsize=12, fontweight='bold')\n",
    "plt.ylabel('Score', fontsize=12, fontweight='bold')\n",
    "plt.legend(loc='best', fontsize=10)\n",
    "plt.grid(True, alpha=0.3)\n",
    "plt.xlim(-0.02, 1.02)\n",
    "plt.ylim(-0.02, 1.02)\n",
    "\n",
    "plt.tight_layout()\n",
    "\n",
    "plt.savefig(f'{model_id}_threshold_analysis_plot.png', dpi=300, bbox_inches='tight')"
   ]
  },
  {
   "cell_type": "code",
   "execution_count": null,
   "id": "35e2eda8-3a7e-4a4d-ba20-7ca5bd2fafd2",
   "metadata": {},
   "outputs": [],
   "source": [
    "optimal_predictions = results['predictions'][f'{optimal_threshold:.3f}']\n",
    "optimal_threshold_predictions_metrics = {\n",
    "            'accuracy': results['accuracy'][optimal_idx],\n",
    "            'precision': results['precision'][optimal_idx],\n",
    "            'recall': results['recall'][optimal_idx],\n",
    "            'f1': results['f1'][optimal_idx]\n",
    "        }\n",
    "with open(f'{model_id}_optimal_threshold_predictions.json', 'w') as f:\n",
    "    json.dump({\n",
    "        'optimal_threshold': float(optimal_threshold),\n",
    "        'predictions': optimal_predictions,\n",
    "        'ground_truth': ground_truth.tolist(),\n",
    "        'metrics': optimal_threshold_predictions_metrics\n",
    "    }, f, indent=2)"
   ]
  },
  {
   "cell_type": "code",
   "execution_count": null,
   "id": "2bf3debc-8034-4efa-ac7d-1fdc9f0f062c",
   "metadata": {},
   "outputs": [],
   "source": [
    "pd.Series(optimal_threshold_predictions_metrics).T"
   ]
  },
  {
   "cell_type": "code",
   "execution_count": null,
   "id": "e55f9112-9ccf-4a84-ba00-a9477ea17f0d",
   "metadata": {},
   "outputs": [],
   "source": [
    "print(classification_report(ground_truth, results['predictions'][f'{optimal_threshold:.3f}'], target_names=[\"True Answer\", \"False Answer\"]))"
   ]
  },
  {
   "cell_type": "code",
   "execution_count": null,
   "id": "c49d150a-66a2-4ec9-b638-48d70f0d52b2",
   "metadata": {},
   "outputs": [],
   "source": [
    "cm = confusion_matrix(ground_truth, results['predictions'][f'{optimal_threshold:.3f}'])\n",
    "\n",
    "disp = ConfusionMatrixDisplay(cm)"
   ]
  },
  {
   "cell_type": "code",
   "execution_count": null,
   "id": "d75dea3f-93a1-4db7-92d8-ceade0fb0972",
   "metadata": {},
   "outputs": [],
   "source": [
    "plt.figure(figsize=(7,7))\n",
    "disp.plot(cmap=plt.cm.Blues, values_format='d')"
   ]
  },
  {
   "cell_type": "markdown",
   "id": "893152d9-7984-49bc-a09f-dcc0a4505952",
   "metadata": {},
   "source": [
    "### Model Tradeoff Study"
   ]
  },
  {
   "cell_type": "code",
   "execution_count": 58,
   "id": "e6804fe5-4675-4ded-a28d-5387102ce81f",
   "metadata": {},
   "outputs": [],
   "source": [
    "model_scores = {'Bespoke-MiniCheck-7B':0.872267,\n",
    "                'flan-t5-large': 0.886512,\n",
    "                'deberta-v3-large': 0.828803,\n",
    "                'roberta-large': 0.852635,\n",
    "                'HHEM 2.1': 0.765843,\n",
    "                \n",
    "}\n",
    "\n",
    "model_params = {'Bespoke-MiniCheck-7B': 7.74*1e9,\n",
    "                'flan-t5-large': 7.80*1e8,\n",
    "                'deberta-v3-large': 4.35*1e8,\n",
    "                'roberta-large': 3.35*1e8,\n",
    "                'HHEM 2.1': 4.39*1e8,\n",
    "}\n",
    "\n",
    "name_mapping = {\n",
    "    'Bespoke-MiniCheck-7B': 'MiniCheck-7B',\n",
    "    'flan-t5-large': 'Flan-T5',\n",
    "    'deberta-v3-large': 'DeBERTa-v3',\n",
    "    'roberta-large': 'RoBERTa',\n",
    "    'HHEM 2.1': 'HHEM-2.1'\n",
    "}"
   ]
  },
  {
   "cell_type": "code",
   "execution_count": 59,
   "id": "c30bf62b-a605-4635-aae7-08fe3d810d52",
   "metadata": {},
   "outputs": [
    {
     "data": {
      "image/png": "[encoded data removed]",
      "text/plain": [
       "<Figure size 1000x600 with 1 Axes>"
      ]
     },
     "metadata": {},
     "output_type": "display_data"
    }
   ],
   "source": [
    "models = list(model_scores.keys())\n",
    "scores = [model_scores[m] for m in models]\n",
    "params = [model_params[m] / 1e9 for m in models] \n",
    "\n",
    "plt.figure(figsize=(10, 6))\n",
    "plt.scatter(params, scores, s=100, alpha=0.6)\n",
    "\n",
    "for i, model in enumerate(models):\n",
    "    if model == 'Bespoke-MiniCheck-7B':\n",
    "        plt.annotate(name_mapping[model], (params[i], scores[i]), xytext=(-60, -10), \n",
    "                     textcoords='offset points', fontsize=9)\n",
    "    else:\n",
    "        plt.annotate(name_mapping[model], (params[i], scores[i]), xytext=(5, 5), \n",
    "                 textcoords='offset points', fontsize=9)\n",
    "\n",
    "plt.xlabel('Parameters (Billions)')\n",
    "plt.ylabel('F1 Score')\n",
    "plt.grid(True, alpha=0.3)\n",
    "plt.tight_layout()\n",
    "\n",
    "plt.savefig('hallucination_detection_models_comparison.png', dpi=150, bbox_inches='tight')\n",
    "plt.show()"
   ]
  },
  {
   "cell_type": "code",
   "execution_count": 60,
   "id": "3ca8c7b1-d194-48fb-b462-c11125f6b882",
   "metadata": {},
   "outputs": [],
   "source": [
    "efficiency = {key: model_scores[key]/(model_params[key]/1e9) for key in model_params.keys()}\n",
    "efficiency_sorted = dict(sorted(efficiency.items(), key=lambda x: x[1], reverse=True))\n",
    "efficiency_sorted_renamed = {name_mapping[k]: v for k, v in efficiency_sorted.items()}"
   ]
  },
  {
   "cell_type": "code",
   "execution_count": 61,
   "id": "8c7877e7-231f-4ecf-89e8-782d53075fbe",
   "metadata": {},
   "outputs": [
    {
     "data": {
      "image/png": "[encoded data removed]",
      "text/plain": [
       "<Figure size 1000x600 with 1 Axes>"
      ]
     },
     "metadata": {},
     "output_type": "display_data"
    }
   ],
   "source": [
    "plt.figure(figsize=(10,6))\n",
    "plt.bar(efficiency_sorted_renamed.keys(), efficiency_sorted.values())\n",
    "plt.ylabel('Efficiency (F1 Score per Billion Parameters)')\n",
    "plt.savefig('hallucination_detection_efficiency_comparison.png', dpi=150, bbox_inches='tight')\n"
   ]
  },
  {
   "cell_type": "markdown",
   "id": "cda18083-e1d8-4b7f-bb87-3396e1b5a3ed",
   "metadata": {},
   "source": [
    "## Conclusion"
   ]
  },
  {
   "cell_type": "markdown",
   "id": "f8497874-deaa-42d7-b343-96f232f8219b",
   "metadata": {},
   "source": [
    "- Minicheck RoBERTA model provides the best quality for resources"
   ]
  }
 ],
 "metadata": {
  "kernelspec": {
   "display_name": "Python-QSRR2.0",
   "language": "python",
   "name": "qsrr2"
  },
  "language_info": {
   "codemirror_mode": {
    "name": "ipython",
    "version": 3
   },
   "file_extension": ".py",
   "mimetype": "text/x-python",
   "name": "python",
   "nbconvert_exporter": "python",
   "pygments_lexer": "ipython3",
   "version": "3.11.13"
  },
  "widgets": {
   "application/vnd.jupyter.widget-state+json": {
    "state": {
     "013b1883abc14d478a3df194a54023bd": {
      "model_module": "@jupyter-widgets/controls",
      "model_module_version": "2.0.0",
      "model_name": "HTMLStyleModel",
      "state": {
       "description_width": "",
       "font_size": null,
       "text_color": null
      }
     },
     "063e37c3662b4d0ead269c0c23d63cef": {
      "model_module": "@jupyter-widgets/base",
      "model_module_version": "2.0.0",
      "model_name": "LayoutModel",
      "state": {}
     },
     "21c7bbfa4b594dd7b9249d0ffe8f4dda": {
      "model_module": "@jupyter-widgets/controls",
      "model_module_version": "2.0.0",
      "model_name": "HTMLModel",
      "state": {
       "layout": "IPY_MODEL_7f7c9ab02b1241adb56a80e5bebd6c06",
       "style": "IPY_MODEL_80dc2e70c9bd408fad4d3c191836bbe0",
       "value": " 55/? [00:36&lt;00:00,  1.40it/s]"
      }
     },
     "31b82adfcc0f4394a8ef0f3ca4f07b08": {
      "model_module": "@jupyter-widgets/base",
      "model_module_version": "2.0.0",
      "model_name": "LayoutModel",
      "state": {}
     },
     "3cce0086f0904115b540bfff4248777c": {
      "model_module": "@jupyter-widgets/controls",
      "model_module_version": "2.0.0",
      "model_name": "HTMLModel",
      "state": {
       "layout": "IPY_MODEL_31b82adfcc0f4394a8ef0f3ca4f07b08",
       "style": "IPY_MODEL_485c5df447c44145aad8c11e3604d1e6",
       "value": " 20/20 [00:00&lt;00:00, 230.23it/s]"
      }
     },
     "3ec84fe08fef4a809c2f8f0a86223a1b": {
      "model_module": "@jupyter-widgets/base",
      "model_module_version": "2.0.0",
      "model_name": "LayoutModel",
      "state": {}
     },
     "3ee5b4234c9c49c0bc44ac14ca51a8bf": {
      "model_module": "@jupyter-widgets/controls",
      "model_module_version": "2.0.0",
      "model_name": "ProgressStyleModel",
      "state": {
       "description_width": ""
      }
     },
     "485c5df447c44145aad8c11e3604d1e6": {
      "model_module": "@jupyter-widgets/controls",
      "model_module_version": "2.0.0",
      "model_name": "HTMLStyleModel",
      "state": {
       "description_width": "",
       "font_size": null,
       "text_color": null
      }
     },
     "6240d56f9246429486741c7bad6be8de": {
      "model_module": "@jupyter-widgets/controls",
      "model_module_version": "2.0.0",
      "model_name": "FloatProgressModel",
      "state": {
       "bar_style": "success",
       "layout": "IPY_MODEL_e4a908dc3269405090fddbe43fac9b8d",
       "max": 54,
       "style": "IPY_MODEL_9d3cfa5353034348a634aeb85363ccc0",
       "value": 54
      }
     },
     "6b7d024a926f4bcba0fedaf780296890": {
      "model_module": "@jupyter-widgets/controls",
      "model_module_version": "2.0.0",
      "model_name": "HTMLModel",
      "state": {
       "layout": "IPY_MODEL_c8ba137fc04c4bea953155fbe91b85ea",
       "style": "IPY_MODEL_013b1883abc14d478a3df194a54023bd",
       "value": "100%"
      }
     },
     "7f7c9ab02b1241adb56a80e5bebd6c06": {
      "model_module": "@jupyter-widgets/base",
      "model_module_version": "2.0.0",
      "model_name": "LayoutModel",
      "state": {}
     },
     "803f480a76264db883ff1685e7636b11": {
      "model_module": "@jupyter-widgets/base",
      "model_module_version": "2.0.0",
      "model_name": "LayoutModel",
      "state": {}
     },
     "80dc2e70c9bd408fad4d3c191836bbe0": {
      "model_module": "@jupyter-widgets/controls",
      "model_module_version": "2.0.0",
      "model_name": "HTMLStyleModel",
      "state": {
       "description_width": "",
       "font_size": null,
       "text_color": null
      }
     },
     "8e3c892244684c36a7791a6c1aa64aec": {
      "model_module": "@jupyter-widgets/controls",
      "model_module_version": "2.0.0",
      "model_name": "HTMLModel",
      "state": {
       "layout": "IPY_MODEL_063e37c3662b4d0ead269c0c23d63cef",
       "style": "IPY_MODEL_cc4b043879be479c8737a2a7ede8ff6a"
      }
     },
     "9bcec7b6a5a943dc973c9279e8fa66f9": {
      "model_module": "@jupyter-widgets/controls",
      "model_module_version": "2.0.0",
      "model_name": "HBoxModel",
      "state": {
       "children": [
        "IPY_MODEL_6b7d024a926f4bcba0fedaf780296890",
        "IPY_MODEL_acf55d8c09ca4b948ad3581694f66ed7",
        "IPY_MODEL_3cce0086f0904115b540bfff4248777c"
       ],
       "layout": "IPY_MODEL_803f480a76264db883ff1685e7636b11"
      }
     },
     "9d3cfa5353034348a634aeb85363ccc0": {
      "model_module": "@jupyter-widgets/controls",
      "model_module_version": "2.0.0",
      "model_name": "ProgressStyleModel",
      "state": {
       "description_width": ""
      }
     },
     "a6845d78fc5041d09751526b97b24b00": {
      "model_module": "@jupyter-widgets/base",
      "model_module_version": "2.0.0",
      "model_name": "LayoutModel",
      "state": {}
     },
     "acf55d8c09ca4b948ad3581694f66ed7": {
      "model_module": "@jupyter-widgets/controls",
      "model_module_version": "2.0.0",
      "model_name": "FloatProgressModel",
      "state": {
       "bar_style": "success",
       "layout": "IPY_MODEL_3ec84fe08fef4a809c2f8f0a86223a1b",
       "max": 20,
       "style": "IPY_MODEL_3ee5b4234c9c49c0bc44ac14ca51a8bf",
       "value": 20
      }
     },
     "ba9fb630b6634027ab8648552c913f34": {
      "model_module": "@jupyter-widgets/controls",
      "model_module_version": "2.0.0",
      "model_name": "HBoxModel",
      "state": {
       "children": [
        "IPY_MODEL_8e3c892244684c36a7791a6c1aa64aec",
        "IPY_MODEL_6240d56f9246429486741c7bad6be8de",
        "IPY_MODEL_21c7bbfa4b594dd7b9249d0ffe8f4dda"
       ],
       "layout": "IPY_MODEL_a6845d78fc5041d09751526b97b24b00"
      }
     },
     "c8ba137fc04c4bea953155fbe91b85ea": {
      "model_module": "@jupyter-widgets/base",
      "model_module_version": "2.0.0",
      "model_name": "LayoutModel",
      "state": {}
     },
     "cc4b043879be479c8737a2a7ede8ff6a": {
      "model_module": "@jupyter-widgets/controls",
      "model_module_version": "2.0.0",
      "model_name": "HTMLStyleModel",
      "state": {
       "description_width": "",
       "font_size": null,
       "text_color": null
      }
     },
     "e4a908dc3269405090fddbe43fac9b8d": {
      "model_module": "@jupyter-widgets/base",
      "model_module_version": "2.0.0",
      "model_name": "LayoutModel",
      "state": {}
     }
    },
    "version_major": 2,
    "version_minor": 0
   }
  }
 },
 "nbformat": 4,
 "nbformat_minor": 5
}
